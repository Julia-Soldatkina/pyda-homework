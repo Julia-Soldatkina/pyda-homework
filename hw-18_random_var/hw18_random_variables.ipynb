{
 "cells": [
  {
   "cell_type": "markdown",
   "metadata": {},
   "source": [
    "# Домашнее задание к лекции «Случайные события и случайные величины»"
   ]
  },
  {
   "cell_type": "markdown",
   "metadata": {},
   "source": [
    "Смоделировать игру против лотерейного автомата типа \"777\". Игрок платит 1 руб., после чего выпадает случайное целое число, равномерно распределенное от 0 до 999.\n",
    "\n",
    "При некоторых значениях числа игрок получает выигрыш.\n",
    "\n",
    "777: 200 руб.\n",
    "999: 100 руб.\n",
    "555: 50 руб.\n",
    "333: 15 руб.\n",
    "111: 10 руб.\n",
    "*77: 5 руб.\n",
    "**7: 3 руб.\n",
    "*00: 2 руб.\n",
    "**0: 1 руб.\n",
    "\n",
    ", где * - любая цифра\n",
    "Выгодна ли игра игроку?\n",
    "Сколько в среднем приобретает или теряет игрок за одну игру?"
   ]
  },
  {
   "cell_type": "code",
   "execution_count": 1,
   "metadata": {},
   "outputs": [],
   "source": [
    "import numpy as np"
   ]
  },
  {
   "cell_type": "code",
   "execution_count": 65,
   "metadata": {},
   "outputs": [
    {
     "name": "stdout",
     "output_type": "stream",
     "text": [
      "Количество игр 1000000, из них успешных 204255. Вероятность выигрыша 20.43%\n",
      "Потрачено денег на игру 1000000 рублей, выиграно 807964 рублей\n"
     ]
    }
   ],
   "source": [
    "trials = 1000000\n",
    "priz = 0         #сумма выигрыша\n",
    "successes = 0    #количество игр с выигрышем\n",
    "win = {777:200, 999:100, 555:50, 333:15, 111:10}\n",
    "\n",
    "for i in range(trials):\n",
    "    random_score = np.random.randint(0, 1000)  \n",
    "    if random_score in win:\n",
    "        priz += win[random_score]\n",
    "        successes += 1\n",
    "    elif random_score %100 == 77:\n",
    "        priz += 5\n",
    "        successes += 1\n",
    "    elif random_score %10 == 7:\n",
    "        priz += 3\n",
    "        successes += 1\n",
    "    elif random_score %100 == 0:\n",
    "        priz += 2\n",
    "        successes += 1\n",
    "    elif random_score %10 == 0:\n",
    "        priz += 1\n",
    "        successes += 1\n",
    "\n",
    "print(f'Количество игр {trials}, из них успешных {successes}. Вероятность выигрыша {round(successes/trials *100,2)}%')\n",
    "print(f'Потрачено денег на игру {trials} рублей, выиграно {priz} рублей')"
   ]
  },
  {
   "cell_type": "code",
   "execution_count": 66,
   "metadata": {},
   "outputs": [
    {
     "name": "stdout",
     "output_type": "stream",
     "text": [
      "Так как выигрыш существенно меньше потраченных денег, то игра невыгодна. В среднем игрок за 1 игру теряет 19.2 копеек\n"
     ]
    }
   ],
   "source": [
    "print(f'Так как выигрыш существенно меньше потраченных денег, то игра невыгодна. В среднем игрок за 1 игру теряет {round((trials-priz)/trials*100,2)} копеек')"
   ]
  },
  {
   "cell_type": "markdown",
   "metadata": {},
   "source": [
    "Дополнительное задание (повышенной сложности).\n",
    "Теоретически рассчитать средний выигрыш (проигрыш) и сравнить с результатами моделирования"
   ]
  },
  {
   "cell_type": "code",
   "execution_count": 70,
   "metadata": {},
   "outputs": [
    {
     "name": "stdout",
     "output_type": "stream",
     "text": [
      "средний проигрыш 20.0\n"
     ]
    }
   ],
   "source": [
    "winnings = 200*(1/1000) + 100*(1/1000) + 50*(1/1000) + 15*(1/1000) + 10*(1/1000) + 5*(9/1000) + 3*(90/1000) + 2*(10/1000) + (90/1000)\n",
    "print(f'средний проигрыш {round(1-winnings,2)*100}')"
   ]
  },
  {
   "cell_type": "code",
   "execution_count": 72,
   "metadata": {},
   "outputs": [
    {
     "name": "stdout",
     "output_type": "stream",
     "text": [
      "вероятность выигрыша 20.4%\n"
     ]
    }
   ],
   "source": [
    "p = (5+9+90+10+90)/1000\n",
    "print(f'вероятность выигрыша {p*100}%')"
   ]
  },
  {
   "cell_type": "code",
   "execution_count": null,
   "metadata": {},
   "outputs": [],
   "source": []
  }
 ],
 "metadata": {
  "kernelspec": {
   "display_name": "Python 3",
   "language": "python",
   "name": "python3"
  },
  "language_info": {
   "codemirror_mode": {
    "name": "ipython",
    "version": 3
   },
   "file_extension": ".py",
   "mimetype": "text/x-python",
   "name": "python",
   "nbconvert_exporter": "python",
   "pygments_lexer": "ipython3",
   "version": "3.8.3"
  }
 },
 "nbformat": 4,
 "nbformat_minor": 4
}
