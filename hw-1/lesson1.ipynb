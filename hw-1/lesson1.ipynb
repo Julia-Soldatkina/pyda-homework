{
 "cells": [
  {
   "cell_type": "markdown",
   "metadata": {},
   "source": [
    "**Задача 1**"
   ]
  },
  {
   "cell_type": "code",
   "execution_count": 10,
   "metadata": {},
   "outputs": [
    {
     "name": "stdout",
     "output_type": "stream",
     "text": [
      "Фраза 2 длинее фразы 1\n"
     ]
    }
   ],
   "source": [
    "phrase1= '640Кб должно хватить для любых задач. Билл Гейтс (по легенде)'\n",
    "phrase2= 'Насколько проще было бы писать программы, если бы не заказчики'\n",
    "\n",
    "if len(phrase1)>len(phrase2):\n",
    "    print ('Фраза 1 длинее фразы 2')\n",
    "elif len(phrase1)<len(phrase2):\n",
    "    print('Фраза 2 длинее фразы 1')\n",
    "else:\n",
    "    print ('Фразы равной длины')"
   ]
  },
  {
   "cell_type": "markdown",
   "metadata": {},
   "source": [
    "**Задача 2**"
   ]
  },
  {
   "cell_type": "code",
   "execution_count": 12,
   "metadata": {},
   "outputs": [
    {
     "name": "stdout",
     "output_type": "stream",
     "text": [
      "введите год2008\n",
      "высокосный год\n"
     ]
    }
   ],
   "source": [
    "year=int (input('введите год'))\n",
    "if (year % 4==0)and(year % 100 != 0) or (year % 400 == 0):\n",
    "    print ('высокосный год')\n",
    "else:\n",
    "        print ('обычный год')\n"
   ]
  },
  {
   "cell_type": "markdown",
   "metadata": {},
   "source": [
    "**Задача 3**"
   ]
  },
  {
   "cell_type": "code",
   "execution_count": 7,
   "metadata": {},
   "outputs": [
    {
     "name": "stdout",
     "output_type": "stream",
     "text": [
      "Введите день рождения30\n",
      "Введите номер месяца рождения8\n",
      "Дева\n"
     ]
    }
   ],
   "source": [
    "day= int (input ('Введите день рождения'))\n",
    "month= int (input ('Введите номер месяца рождения'))\n",
    "if (31>=day>=21 and month == 3) or (20>=day>=1 and month == 4):\n",
    "    print ('Овен')\n",
    "elif (30>=day>=21 and month == 4) or (21>=day>=1 and month == 5):\n",
    "        print ('Телец')\n",
    "elif (31>=day>=22 and month == 5) or (21>=day>=1 and month == 6):  \n",
    "        print ('Близнецы')\n",
    "elif (30>=day>=22 and month == 6) or (22>=day>=1 and month == 7):  \n",
    "         print ('Рак')\n",
    "elif (31>=day>=23 and month == 7) or (23>=day>=1 and month == 8):   \n",
    "        print ('Лев')\n",
    "elif (31>=day>=24 and month == 8) or (23>=day>=1 and month == 9):   \n",
    "         print ('Дева')\n",
    "elif (30>=day>=24 and month == 9) or (23>=day>=1 and month == 10):  \n",
    "        print ('Весы')\n",
    "elif (31>=day>=24 and month == 10) or (22>=day>=1 and month == 11): \n",
    "        print ('Скорпион')\n",
    "elif (30>=day>=23 and month == 11) or (22>=day>=1 and month == 12): \n",
    "        print ('Стрелец')\n",
    "elif (31>=day>=23 and month == 12) or (20>=day>=1 and month == 1):  \n",
    "        print ('Козерог')\n",
    "elif (31>=day>=21 and month == 1) or (19>=day>=1 and month == 2):  \n",
    "        print ('Водолей')\n",
    "elif (29>=day>=20 and month == 2) or (20>=day>=1 and month == 3):  \n",
    "        print ('Рыбы')\n",
    "else:\n",
    "            print ('Некорректный ввод даты')"
   ]
  },
  {
   "cell_type": "markdown",
   "metadata": {},
   "source": [
    "**Задача 4**"
   ]
  },
  {
   "cell_type": "code",
   "execution_count": 12,
   "metadata": {},
   "outputs": [
    {
     "name": "stdout",
     "output_type": "stream",
     "text": [
      "Упаковка для лыж\n"
     ]
    }
   ],
   "source": [
    "width = 10\n",
    "length = 205\n",
    "height = 5\n",
    "\n",
    "if (width<=15 and length<=15 and height<=15):\n",
    "    print ('Коробка №1')\n",
    "elif (50>=width>15 or 50>=length>15 or 50>=height>15):\n",
    "    print ('Коробка №2')\n",
    "elif (length>=200):\n",
    "    print ('Упаковка для лыж')\n",
    "else:\n",
    "    print ('Стандартная коробка №3')"
   ]
  },
  {
   "cell_type": "markdown",
   "metadata": {},
   "source": [
    "**Задача 5**"
   ]
  },
  {
   "cell_type": "code",
   "execution_count": 44,
   "metadata": {},
   "outputs": [
    {
     "name": "stdout",
     "output_type": "stream",
     "text": [
      "Введите номер билета123321\n",
      "Счастливый билет\n"
     ]
    }
   ],
   "source": [
    "x= int(input('Введите номер билета'))\n",
    "x1= int(x//100000)\n",
    "x2= int ((x//10000)- (x//100000)*10)\n",
    "x3= int ((x//1000)- (x//10000)*10)\n",
    "x4= int ((x//100)- (x//1000)*10)\n",
    "x5= int ((x//10)- (x//100)*10)\n",
    "x6= int ((x//1)- (x//10)*10)\n",
    "if (x1+x2+x3)==(x4+x5+x6):\n",
    "    print ('Счастливый билет')\n",
    "else:\n",
    "    print ('Обычный билет')"
   ]
  },
  {
   "cell_type": "markdown",
   "metadata": {},
   "source": [
    "**Задача 6**"
   ]
  },
  {
   "cell_type": "code",
   "execution_count": 39,
   "metadata": {},
   "outputs": [
    {
     "name": "stdout",
     "output_type": "stream",
     "text": [
      "Введите название фигурыТреугольник\n",
      "Введите 1 сторону треугольника2\n",
      "Введите 2 сторону треугольника2\n",
      "Введите 3 сторону треугольника3\n",
      "1.98\n"
     ]
    }
   ],
   "source": [
    "tip= str (input ('Введите название фигуры'))\n",
    "if tip=='Круг':\n",
    "    r=float (input('Введите радиус круга'))\n",
    "    S= 3.14 * (r**2)\n",
    "elif tip=='Прямоугольник':\n",
    "    a=float (input('Введите ширину прямоугольника'))\n",
    "    b= float (input('Введите длину прямоугольника'))\n",
    "    S=a*b\n",
    "elif tip=='Треугольник':\n",
    "    a=float (input('Введите 1 сторону треугольника'))\n",
    "    b= float (input('Введите 2 сторону треугольника'))\n",
    "    c= float (input('Введите 3 сторону треугольника'))\n",
    "    p=(a+b+c)/2\n",
    "    S=round ((p*(p-a)*(p-b)*(p-c))**0.5,2)\n",
    "print (S)"
   ]
  },
  {
   "cell_type": "code",
   "execution_count": null,
   "metadata": {},
   "outputs": [],
   "source": []
  }
 ],
 "metadata": {
  "kernelspec": {
   "display_name": "Python 3",
   "language": "python",
   "name": "python3"
  },
  "language_info": {
   "codemirror_mode": {
    "name": "ipython",
    "version": 3
   },
   "file_extension": ".py",
   "mimetype": "text/x-python",
   "name": "python",
   "nbconvert_exporter": "python",
   "pygments_lexer": "ipython3",
   "version": "3.8.3"
  }
 },
 "nbformat": 4,
 "nbformat_minor": 4
}
