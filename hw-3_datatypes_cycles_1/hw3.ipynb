{
 "cells": [
  {
   "cell_type": "markdown",
   "metadata": {},
   "source": [
    "## Задача 1\n",
    "\n",
    "Дана переменная, в которой хранится слово из латинских букв. Напишите код, который выводит на экран:\n",
    "\n",
    "среднюю букву, если число букв в слове нечетное;\n",
    "две средних буквы, если число букв четное."
   ]
  },
  {
   "cell_type": "code",
   "execution_count": 4,
   "metadata": {},
   "outputs": [
    {
     "name": "stdout",
     "output_type": "stream",
     "text": [
      "es\n"
     ]
    }
   ],
   "source": [
    "word = 'test'\n",
    "\n",
    "a = int (len (word)/2)\n",
    "if len (word) %2 == 0:\n",
    "    print (word [a-1:a+1])\n",
    "else:\n",
    "    print (word [a])"
   ]
  },
  {
   "cell_type": "markdown",
   "metadata": {},
   "source": [
    "## Задача 2\n",
    "\n",
    "Напишите программу, которая последовательно запрашивает у пользователя числа (по одному за раз) и после первого нуля выводит сумму всех ранее введенных чисел."
   ]
  },
  {
   "cell_type": "code",
   "execution_count": 9,
   "metadata": {},
   "outputs": [
    {
     "name": "stdout",
     "output_type": "stream",
     "text": [
      "Введите число 1\n",
      "Введите число 4\n",
      "Введите число 6\n",
      "Введите число 0\n",
      "11\n"
     ]
    }
   ],
   "source": [
    "numbers = int (input ('Введите число '))\n",
    "sum_ = 0\n",
    "while numbers!= 0:\n",
    "    sum_ += numbers\n",
    "    numbers = int (input ('Введите число '))\n",
    "print (sum_)"
   ]
  },
  {
   "cell_type": "markdown",
   "metadata": {},
   "source": [
    "## Задача 3\n",
    "\n",
    "Мы делаем MVP dating-сервиса, и у нас есть список парней и девушек.\n",
    "Выдвигаем гипотезу: лучшие рекомендации мы получим, если просто отсортируем имена по алфавиту и познакомим людей с одинаковыми индексами после сортировки! Но мы не будем никого знакомить, если кто-то может остаться без пары:"
   ]
  },
  {
   "cell_type": "code",
   "execution_count": 15,
   "metadata": {},
   "outputs": [
    {
     "name": "stdout",
     "output_type": "stream",
     "text": [
      "Идеальные пары:\n",
      " Alex и Emma\n",
      " Arthur и Kate\n",
      " John и Kira\n",
      " Peter и Liza\n",
      " Richard и Trisha\n"
     ]
    }
   ],
   "source": [
    "boys = ['Peter', 'Alex', 'John', 'Arthur', 'Richard']\n",
    "girls = ['Kate', 'Liza', 'Kira', 'Emma', 'Trisha']\n",
    "\n",
    "boys_new = sorted (boys)\n",
    "girls_new = sorted (girls)\n",
    "if len (boys_new) != len (girls_new):\n",
    "    print ('Внимание, кто-то может остаться без пары!')\n",
    "else:\n",
    "    print ('Идеальные пары:')\n",
    "    for boy,girl in zip (boys_new,girls_new):\n",
    "        print (f' {boy} и {girl}')"
   ]
  },
  {
   "cell_type": "markdown",
   "metadata": {},
   "source": [
    "## Задача 4\n",
    "\n",
    "У нас есть список, содержащий информацию о среднедневной температуре в Фаренгейтах за произвольный период по странам (структура данных в примере). Необходимо написать код, который рассчитает среднюю температуру за период в Цельсиях(!) для каждой страны."
   ]
  },
  {
   "cell_type": "code",
   "execution_count": 16,
   "metadata": {},
   "outputs": [
    {
     "name": "stdout",
     "output_type": "stream",
     "text": [
      "Средняя температура в станах:\n",
      "Thailand - 23.86 С\n",
      "Germany - 13.8 С\n",
      "Russia - 3.71 С\n",
      "Poland - 12.0 С\n"
     ]
    }
   ],
   "source": [
    "countries_temperature = [\n",
    "['Thailand', [75.2, 77, 78.8, 73.4, 68, 75.2, 77]],\n",
    "['Germany', [57.2, 55.4, 59, 59, 53.6]],\n",
    "['Russia', [35.6, 37.4, 39.2, 41, 42.8, 39.2, 35.6]],\n",
    "['Poland', [50, 50, 53.6, 57.2, 55.4, 55.4]]\n",
    "]\n",
    "\n",
    "print ('Средняя температура в станах:')\n",
    "for country in countries_temperature:\n",
    "    print (f'{country[0]} - {round (5/9*(sum (country[1])/len (country[1])-32),2)} С')"
   ]
  },
  {
   "cell_type": "markdown",
   "metadata": {},
   "source": [
    "## Задача 5\n",
    "\n",
    "Дан поток логов по количеству просмотренных страниц для каждого пользователя. Вам необходимо написать алгоритм, который считает среднее значение просмотров на пользователя. Т. е. надо посчитать отношение суммы всех просмотров к количеству уникальных пользователей."
   ]
  },
  {
   "cell_type": "code",
   "execution_count": 24,
   "metadata": {},
   "outputs": [
    {
     "name": "stdout",
     "output_type": "stream",
     "text": [
      " среднее количество на просмотров на уникального пользователя: 23.25\n"
     ]
    }
   ],
   "source": [
    "stream = [\n",
    "'2018-01-01,user1,3',\n",
    "'2018-01-07,user1,4',\n",
    "'2018-03-29,user1,1',\n",
    "'2018-04-04,user1,13',\n",
    "'2018-01-05,user2,7',\n",
    "'2018-06-14,user3,4',\n",
    "'2018-07-02,user3,10',\n",
    "'2018-03-21,user4,19',\n",
    "'2018-03-22,user4,4',\n",
    "'2018-04-22,user4,8',\n",
    "'2018-05-03,user4,9',\n",
    "'2018-05-11,user4,11',\n",
    "]\n",
    "\n",
    "user_list = []\n",
    "views = 0\n",
    "\n",
    "for el in stream:\n",
    "    splitted_el = el.split(',')\n",
    "    if splitted_el[1] not in user_list:\n",
    "        user_list.append (splitted_el [1])\n",
    "        user_count = len (user_list)\n",
    "    views += int (splitted_el [2])\n",
    "print (f' среднее количество на просмотров на уникального пользователя: {views/user_count}')\n",
    "        "
   ]
  },
  {
   "cell_type": "code",
   "execution_count": null,
   "metadata": {},
   "outputs": [],
   "source": []
  }
 ],
 "metadata": {
  "kernelspec": {
   "display_name": "Python 3",
   "language": "python",
   "name": "python3"
  },
  "language_info": {
   "codemirror_mode": {
    "name": "ipython",
    "version": 3
   },
   "file_extension": ".py",
   "mimetype": "text/x-python",
   "name": "python",
   "nbconvert_exporter": "python",
   "pygments_lexer": "ipython3",
   "version": "3.8.3"
  }
 },
 "nbformat": 4,
 "nbformat_minor": 4
}
