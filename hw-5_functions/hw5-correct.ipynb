{
 "cells": [
  {
   "cell_type": "code",
   "execution_count": 1,
   "metadata": {},
   "outputs": [],
   "source": [
    "documents = [\n",
    " {'type': 'passport', 'number': '2207 876234', 'name': 'Василий Гупкин'},\n",
    " {'type': 'invoice', 'number': '11-2', 'name': 'Геннадий Покемонов'},\n",
    " {'type': 'insurance', 'number': '10006', 'name': 'Аристарх Павлов'}\n",
    "]"
   ]
  },
  {
   "cell_type": "code",
   "execution_count": 2,
   "metadata": {},
   "outputs": [],
   "source": [
    "directories = {\n",
    " '1': ['2207 876234', '11-2'],\n",
    " '2': ['10006'],\n",
    " '3': []\n",
    "}"
   ]
  },
  {
   "cell_type": "markdown",
   "metadata": {},
   "source": [
    "**Пункт 1. Пользователь по команде \"p\" может узнать владельца документа по его номеру**"
   ]
  },
  {
   "cell_type": "code",
   "execution_count": 3,
   "metadata": {},
   "outputs": [],
   "source": [
    "def print_name():\n",
    "    num = input('Введите номер документа:')\n",
    "    for el in documents:\n",
    "        if el['number'] == num:\n",
    "            print(el['name'])\n",
    "            return\n",
    "    else:\n",
    "        print('Документ не найден в базе')"
   ]
  },
  {
   "cell_type": "code",
   "execution_count": 4,
   "metadata": {},
   "outputs": [
    {
     "name": "stdout",
     "output_type": "stream",
     "text": [
      "Введите номер документа:11-2\n",
      "Геннадий Покемонов\n"
     ]
    }
   ],
   "source": [
    "print_name()"
   ]
  },
  {
   "cell_type": "markdown",
   "metadata": {},
   "source": [
    "**Пункт 2. Пользователь по команде \"s\" может по номеру документа узнать на какой полке он хранится**"
   ]
  },
  {
   "cell_type": "code",
   "execution_count": 5,
   "metadata": {},
   "outputs": [],
   "source": [
    "def print_shelf():\n",
    "    num_doc = input('Введите номер документа:')\n",
    "    for shelf,doc in directories.items():\n",
    "        if num_doc in doc:\n",
    "            print (f'Документ хранится на полке:{shelf}')\n",
    "            return\n",
    "    else:\n",
    "        print('Документ не найден в базе')"
   ]
  },
  {
   "cell_type": "code",
   "execution_count": 6,
   "metadata": {},
   "outputs": [
    {
     "name": "stdout",
     "output_type": "stream",
     "text": [
      "Введите номер документа:11-2\n",
      "Документ хранится на полке:1\n"
     ]
    }
   ],
   "source": [
    "print_shelf()"
   ]
  },
  {
   "cell_type": "markdown",
   "metadata": {},
   "source": [
    "**Пункт 3. Пользователь по команде \"l\" может увидеть полную информацию по всем документам**"
   ]
  },
  {
   "cell_type": "code",
   "execution_count": 7,
   "metadata": {},
   "outputs": [],
   "source": [
    "def all_info():\n",
    "    for el in documents:\n",
    "        num_doc = el['number']\n",
    "        for shelf, doc in directories.items():\n",
    "            if num_doc in doc:\n",
    "                num_shelf = shelf\n",
    "                print(f'№ {el[\"number\"]}, тип: {el[\"type\"]}, владелец: {el[\"name\"]}, полка хранения: {num_shelf}')"
   ]
  },
  {
   "cell_type": "code",
   "execution_count": 8,
   "metadata": {},
   "outputs": [
    {
     "name": "stdout",
     "output_type": "stream",
     "text": [
      "№ 2207 876234, тип: passport, владелец: Василий Гупкин, полка хранения: 1\n",
      "№ 11-2, тип: invoice, владелец: Геннадий Покемонов, полка хранения: 1\n",
      "№ 10006, тип: insurance, владелец: Аристарх Павлов, полка хранения: 2\n"
     ]
    }
   ],
   "source": [
    "all_info()"
   ]
  },
  {
   "cell_type": "markdown",
   "metadata": {},
   "source": [
    "**Пункт 4. Пользователь по команде \"ads\" может добавить новую полку**"
   ]
  },
  {
   "cell_type": "code",
   "execution_count": 9,
   "metadata": {},
   "outputs": [],
   "source": [
    "def add_shelf():\n",
    "    num_shelf = input('Введите номер полки:')\n",
    "    if num_shelf not in directories:\n",
    "        directories.setdefault(num_shelf,[])\n",
    "        print(f'Полка добавлена. Текущий перечень полок:{\",\".join(directories.keys())}')\n",
    "    else:\n",
    "        print(f'Такая полка уже существует. Текущий перечень полок:{\",\".join(directories.keys())}')\n",
    "    return"
   ]
  },
  {
   "cell_type": "code",
   "execution_count": 10,
   "metadata": {},
   "outputs": [
    {
     "name": "stdout",
     "output_type": "stream",
     "text": [
      "Введите номер полки:7\n",
      "Полка добавлена. Текущий перечень полок:1,2,3,7\n"
     ]
    }
   ],
   "source": [
    "add_shelf()"
   ]
  },
  {
   "cell_type": "markdown",
   "metadata": {},
   "source": [
    "**Пункт 5. Пользователь по команде \"ds\" может удалить существующую полку из данных (только если она пустая)**"
   ]
  },
  {
   "cell_type": "code",
   "execution_count": 11,
   "metadata": {},
   "outputs": [],
   "source": [
    "def del_shelf():\n",
    "    num_shelf = input('Введите номер полки:')\n",
    "    if len(directories.get(num_shelf)) == 0:\n",
    "        del(directories[num_shelf])\n",
    "        print(f'Полка удалена. Текущий перечень полок:{\",\".join(directories.keys())}')\n",
    "    else:\n",
    "        print(f'На полке есть документы, удалите их перед удалением полки. Текущий перечень полок:{\",\".join(directories.keys())}') \n",
    "    return"
   ]
  },
  {
   "cell_type": "code",
   "execution_count": 12,
   "metadata": {},
   "outputs": [
    {
     "name": "stdout",
     "output_type": "stream",
     "text": [
      "Введите номер полки:7\n",
      "Полка удалена. Текущий перечень полок:1,2,3\n"
     ]
    }
   ],
   "source": [
    "del_shelf()"
   ]
  },
  {
   "cell_type": "code",
   "execution_count": 13,
   "metadata": {},
   "outputs": [],
   "source": [
    "def main():\n",
    "    while True:\n",
    "        user_input = input('Введите команду')\n",
    "        if user_input == 'p':\n",
    "            print_name()\n",
    "        elif user_input == 's':\n",
    "            print_shelf()\n",
    "        elif user_input == 'l':\n",
    "            all_info()\n",
    "        elif user_input == 'ads':\n",
    "            add_shelf()\n",
    "        elif user_input == 'ds':\n",
    "            del_shelf()\n",
    "        elif user_input == 'q':\n",
    "            print ('Выход из программы')\n",
    "            break"
   ]
  },
  {
   "cell_type": "code",
   "execution_count": 14,
   "metadata": {},
   "outputs": [
    {
     "name": "stdout",
     "output_type": "stream",
     "text": [
      "Введите командуp\n",
      "Введите номер документа:11-2\n",
      "Геннадий Покемонов\n",
      "Введите командуs\n",
      "Введите номер документа:11-2\n",
      "Документ хранится на полке:1\n",
      "Введите командуl\n",
      "№ 2207 876234, тип: passport, владелец: Василий Гупкин, полка хранения: 1\n",
      "№ 11-2, тип: invoice, владелец: Геннадий Покемонов, полка хранения: 1\n",
      "№ 10006, тип: insurance, владелец: Аристарх Павлов, полка хранения: 2\n",
      "Введите командуads\n",
      "Введите номер полки:10\n",
      "Полка добавлена. Текущий перечень полок:1,2,3,10\n",
      "Введите командуds\n",
      "Введите номер полки:10\n",
      "Полка удалена. Текущий перечень полок:1,2,3\n",
      "Введите командуq\n",
      "Выход из программы\n"
     ]
    }
   ],
   "source": [
    "main()"
   ]
  }
 ],
 "metadata": {
  "kernelspec": {
   "display_name": "Python 3",
   "language": "python",
   "name": "python3"
  },
  "language_info": {
   "codemirror_mode": {
    "name": "ipython",
    "version": 3
   },
   "file_extension": ".py",
   "mimetype": "text/x-python",
   "name": "python",
   "nbconvert_exporter": "python",
   "pygments_lexer": "ipython3",
   "version": "3.8.3"
  }
 },
 "nbformat": 4,
 "nbformat_minor": 4
}
